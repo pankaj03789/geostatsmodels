{
  "nbformat": 4,
  "nbformat_minor": 0,
  "metadata": {
    "colab": {
      "provenance": [],
      "authorship_tag": "ABX9TyOUivblqpSJNMVaDSeax5Q6",
      "include_colab_link": true
    },
    "kernelspec": {
      "name": "python3",
      "display_name": "Python 3"
    },
    "language_info": {
      "name": "python"
    }
  },
  "cells": [
    {
      "cell_type": "markdown",
      "metadata": {
        "id": "view-in-github",
        "colab_type": "text"
      },
      "source": [
        "<a href=\"https://colab.research.google.com/github/pankaj03789/geostatsmodels/blob/master/tc.ipynb\" target=\"_parent\"><img src=\"https://colab.research.google.com/assets/colab-badge.svg\" alt=\"Open In Colab\"/></a>"
      ]
    },
    {
      "cell_type": "code",
      "execution_count": 1,
      "metadata": {
        "colab": {
          "base_uri": "https://localhost:8080/"
        },
        "id": "9b_eBWN6rrXN",
        "outputId": "34d52b4a-94ad-491c-bcdd-866c93714fa0"
      },
      "outputs": [
        {
          "output_type": "stream",
          "name": "stdout",
          "text": [
            "Mounted at /content/drive\n"
          ]
        }
      ],
      "source": [
        "from google.colab import drive\n",
        "drive.mount(\"/content/drive\")\n"
      ]
    },
    {
      "cell_type": "code",
      "source": [
        "!pip install pandas"
      ],
      "metadata": {
        "colab": {
          "base_uri": "https://localhost:8080/"
        },
        "id": "UD2QKY3EuAHC",
        "outputId": "a4b50946-e088-451e-e25b-939ceb6c066e"
      },
      "execution_count": 2,
      "outputs": [
        {
          "output_type": "stream",
          "name": "stdout",
          "text": [
            "Requirement already satisfied: pandas in /usr/local/lib/python3.10/dist-packages (2.0.3)\n",
            "Requirement already satisfied: python-dateutil>=2.8.2 in /usr/local/lib/python3.10/dist-packages (from pandas) (2.8.2)\n",
            "Requirement already satisfied: pytz>=2020.1 in /usr/local/lib/python3.10/dist-packages (from pandas) (2023.4)\n",
            "Requirement already satisfied: tzdata>=2022.1 in /usr/local/lib/python3.10/dist-packages (from pandas) (2024.1)\n",
            "Requirement already satisfied: numpy>=1.21.0 in /usr/local/lib/python3.10/dist-packages (from pandas) (1.25.2)\n",
            "Requirement already satisfied: six>=1.5 in /usr/local/lib/python3.10/dist-packages (from python-dateutil>=2.8.2->pandas) (1.16.0)\n"
          ]
        }
      ]
    },
    {
      "cell_type": "code",
      "source": [
        "import pandas as pd\n",
        "filepath = \"/content/drive/MyDrive/EEWS_ParametersValidationData/ElCentro_1940_EqData.xlsx\"\n",
        "df = pd.read_excel(filepath)\n",
        "print(df)"
      ],
      "metadata": {
        "colab": {
          "base_uri": "https://localhost:8080/"
        },
        "id": "GE4yZ57utj5j",
        "outputId": "895e68bf-bf05-4a96-cd65-d99640ad5e53"
      },
      "execution_count": 6,
      "outputs": [
        {
          "output_type": "stream",
          "name": "stdout",
          "text": [
            "          Time        EW        NS        UD\n",
            "0     00:00:00  0.000306 -0.001428  0.002447\n",
            "1     00:28:48  0.001937 -0.011013 -0.023453\n",
            "2     00:57:36  0.006934 -0.010299 -0.028042\n",
            "3     01:26:24  0.002957 -0.008973 -0.040482\n",
            "4     01:55:12  0.002957 -0.009687 -0.039768\n",
            "...        ...       ...       ...       ...\n",
            "2685       NaN       NaN -0.003773 -0.003059\n",
            "2686       NaN       NaN -0.002651 -0.002447\n",
            "2687       NaN       NaN -0.001428 -0.002141\n",
            "2688       NaN       NaN       NaN -0.001632\n",
            "2689       NaN       NaN       NaN -0.001122\n",
            "\n",
            "[2690 rows x 4 columns]\n"
          ]
        }
      ]
    },
    {
      "cell_type": "code",
      "source": [],
      "metadata": {
        "id": "Q5fOmHn5uQsv"
      },
      "execution_count": null,
      "outputs": []
    }
  ]
}